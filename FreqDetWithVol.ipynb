{
 "cells": [
  {
   "cell_type": "code",
   "execution_count": 1,
   "id": "c48ca5ce-75ef-4ca4-8fbe-7e9962ab58a1",
   "metadata": {},
   "outputs": [
    {
     "name": "stdout",
     "output_type": "stream",
     "text": [
      "Detecting Frequencies. Press CTRL-C to quit.\n"
     ]
    },
    {
     "name": "stderr",
     "output_type": "stream",
     "text": [
      "<ipython-input-1-58e715623129>:22: DeprecationWarning: The binary mode of fromstring is deprecated, as it behaves surprisingly on unicode inputs. Use frombuffer instead\n",
      "  audio_data  = fromstring(_stream.read(\n"
     ]
    },
    {
     "name": "stdout",
     "output_type": "stream",
     "text": [
      "The frequency is:  240.9746714803064\n",
      "The frequency is:  13472.982830376415\n"
     ]
    },
    {
     "ename": "KeyboardInterrupt",
     "evalue": "",
     "output_type": "error",
     "traceback": [
      "\u001b[0;31m---------------------------------------------------------------------------\u001b[0m",
      "\u001b[0;31mKeyboardInterrupt\u001b[0m                         Traceback (most recent call last)",
      "\u001b[0;32m<ipython-input-1-58e715623129>\u001b[0m in \u001b[0;36m<module>\u001b[0;34m\u001b[0m\n\u001b[1;32m     19\u001b[0m \u001b[0;34m\u001b[0m\u001b[0m\n\u001b[1;32m     20\u001b[0m \u001b[0;32mwhile\u001b[0m \u001b[0;32mTrue\u001b[0m\u001b[0;34m:\u001b[0m\u001b[0;34m\u001b[0m\u001b[0;34m\u001b[0m\u001b[0m\n\u001b[0;32m---> 21\u001b[0;31m     \u001b[0;32mwhile\u001b[0m \u001b[0m_stream\u001b[0m\u001b[0;34m.\u001b[0m\u001b[0mget_read_available\u001b[0m\u001b[0;34m(\u001b[0m\u001b[0;34m)\u001b[0m\u001b[0;34m<\u001b[0m \u001b[0mNUM_SAMPLES\u001b[0m\u001b[0;34m:\u001b[0m \u001b[0msleep\u001b[0m\u001b[0;34m(\u001b[0m\u001b[0;36m0.01\u001b[0m\u001b[0;34m)\u001b[0m\u001b[0;34m\u001b[0m\u001b[0;34m\u001b[0m\u001b[0m\n\u001b[0m\u001b[1;32m     22\u001b[0m     audio_data  = fromstring(_stream.read(\n\u001b[1;32m     23\u001b[0m         _stream.get_read_available()), dtype=short)[-NUM_SAMPLES:]\n",
      "\u001b[0;31mKeyboardInterrupt\u001b[0m: "
     ]
    }
   ],
   "source": [
    "import pyaudio\n",
    "from numpy import zeros,linspace,short,fromstring,hstack,transpose,log2, log\n",
    "from scipy import fft, signal\n",
    "from time import sleep\n",
    "import struct\n",
    "from scipy.signal import hamming, convolve\n",
    "\n",
    "frequencyoutput = True\n",
    "\n",
    "NUM_SAMPLES = 2048\n",
    "SAMPLING_RATE = 48000\n",
    "pa = pyaudio.PyAudio()\n",
    "_stream = pa.open(format=pyaudio.paInt16,\n",
    "                  channels=1, rate=SAMPLING_RATE,\n",
    "                  input=True,\n",
    "                  frames_per_buffer=NUM_SAMPLES)\n",
    "\n",
    "print(\"Detecting Frequencies. Press CTRL-C to quit.\")\n",
    "\n",
    "while True:\n",
    "    while _stream.get_read_available()< NUM_SAMPLES: sleep(0.01)\n",
    "    audio_data  = fromstring(_stream.read(\n",
    "        _stream.get_read_available()), dtype=short)[-NUM_SAMPLES:]\n",
    "    \n",
    "    normalized_data = audio_data / 32768.0    \n",
    "    w = hamming(2048)  \n",
    "        \n",
    "    intensity = abs(w*fft.fft(normalized_data))[:1024]\n",
    "\n",
    "    \n",
    "    if frequencyoutput:\n",
    "        which = intensity[1:].argmax()+1\n",
    "        # use quadratic interpolation around the max\n",
    "        if which != len(intensity)-1:\n",
    "            y0,y1,y2 = log(intensity[which-1:which+2:])\n",
    "            x1 = (y2 - y0) * .5 / (2 * y1 - y2 - y0)\n",
    "            # find the frequency and output it\n",
    "            thefreq = (which+x1)*SAMPLING_RATE/NUM_SAMPLES\n",
    "        else:\n",
    "            thefreq = which*SAMPLING_RATE/NUM_SAMPLES\n",
    "      \n",
    "        if(audio_data[0] > 275):\n",
    "            print(\"The frequency is: \",thefreq)\n"
   ]
  },
  {
   "cell_type": "code",
   "execution_count": null,
   "id": "d90f1b51-4b21-4176-b124-765680b0dd39",
   "metadata": {},
   "outputs": [],
   "source": []
  }
 ],
 "metadata": {
  "kernelspec": {
   "display_name": "Python 3",
   "language": "python",
   "name": "python3"
  },
  "language_info": {
   "codemirror_mode": {
    "name": "ipython",
    "version": 3
   },
   "file_extension": ".py",
   "mimetype": "text/x-python",
   "name": "python",
   "nbconvert_exporter": "python",
   "pygments_lexer": "ipython3",
   "version": "3.8.8"
  }
 },
 "nbformat": 4,
 "nbformat_minor": 5
}
